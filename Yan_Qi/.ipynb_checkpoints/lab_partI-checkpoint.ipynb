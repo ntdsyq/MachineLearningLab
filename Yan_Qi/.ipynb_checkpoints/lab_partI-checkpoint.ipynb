{
 "cells": [
  {
   "cell_type": "code",
   "execution_count": 181,
   "metadata": {},
   "outputs": [],
   "source": [
    "import matplotlib.pyplot as plt\n",
    "import numpy as np\n",
    "import pandas as pd\n",
    "import seaborn as sns\n",
    "%matplotlib inline"
   ]
  },
  {
   "cell_type": "code",
   "execution_count": 182,
   "metadata": {},
   "outputs": [
    {
     "data": {
      "text/plain": [
       "(51290, 24)"
      ]
     },
     "execution_count": 182,
     "metadata": {},
     "output_type": "execute_result"
    }
   ],
   "source": [
    "orders = pd.read_csv(\"data/Orders.csv\")\n",
    "orders.shape"
   ]
  },
  {
   "cell_type": "code",
   "execution_count": 183,
   "metadata": {},
   "outputs": [
    {
     "name": "stdout",
     "output_type": "stream",
     "text": [
      "Index(['Row.ID', 'Order.ID', 'Order.Date', 'Ship.Date', 'Ship.Mode',\n",
      "       'Customer.ID', 'Customer.Name', 'Segment', 'Postal.Code', 'City',\n",
      "       'State', 'Country', 'Region', 'Market', 'Product.ID', 'Category',\n",
      "       'Sub.Category', 'Product.Name', 'Sales', 'Quantity', 'Discount',\n",
      "       'Profit', 'Shipping.Cost', 'Order.Priority'],\n",
      "      dtype='object')\n"
     ]
    },
    {
     "data": {
      "text/html": [
       "<div>\n",
       "<style scoped>\n",
       "    .dataframe tbody tr th:only-of-type {\n",
       "        vertical-align: middle;\n",
       "    }\n",
       "\n",
       "    .dataframe tbody tr th {\n",
       "        vertical-align: top;\n",
       "    }\n",
       "\n",
       "    .dataframe thead th {\n",
       "        text-align: right;\n",
       "    }\n",
       "</style>\n",
       "<table border=\"1\" class=\"dataframe\">\n",
       "  <thead>\n",
       "    <tr style=\"text-align: right;\">\n",
       "      <th></th>\n",
       "      <th>Row.ID</th>\n",
       "      <th>Order.ID</th>\n",
       "      <th>Order.Date</th>\n",
       "      <th>Ship.Date</th>\n",
       "      <th>Ship.Mode</th>\n",
       "      <th>Customer.ID</th>\n",
       "      <th>Customer.Name</th>\n",
       "      <th>Segment</th>\n",
       "      <th>Postal.Code</th>\n",
       "      <th>City</th>\n",
       "      <th>...</th>\n",
       "      <th>Product.ID</th>\n",
       "      <th>Category</th>\n",
       "      <th>Sub.Category</th>\n",
       "      <th>Product.Name</th>\n",
       "      <th>Sales</th>\n",
       "      <th>Quantity</th>\n",
       "      <th>Discount</th>\n",
       "      <th>Profit</th>\n",
       "      <th>Shipping.Cost</th>\n",
       "      <th>Order.Priority</th>\n",
       "    </tr>\n",
       "  </thead>\n",
       "  <tbody>\n",
       "    <tr>\n",
       "      <th>0</th>\n",
       "      <td>40098</td>\n",
       "      <td>CA-2014-AB10015140-41954</td>\n",
       "      <td>11/11/14</td>\n",
       "      <td>11/13/14</td>\n",
       "      <td>First Class</td>\n",
       "      <td>AB-100151402</td>\n",
       "      <td>Aaron Bergman</td>\n",
       "      <td>Consumer</td>\n",
       "      <td>73120.0</td>\n",
       "      <td>Oklahoma City</td>\n",
       "      <td>...</td>\n",
       "      <td>TEC-PH-5816</td>\n",
       "      <td>Technology</td>\n",
       "      <td>Phones</td>\n",
       "      <td>Samsung Convoy 3</td>\n",
       "      <td>$221.98</td>\n",
       "      <td>2</td>\n",
       "      <td>0.0</td>\n",
       "      <td>$62.15</td>\n",
       "      <td>40.77</td>\n",
       "      <td>High</td>\n",
       "    </tr>\n",
       "    <tr>\n",
       "      <th>1</th>\n",
       "      <td>26341</td>\n",
       "      <td>IN-2014-JR162107-41675</td>\n",
       "      <td>2/5/14</td>\n",
       "      <td>2/7/14</td>\n",
       "      <td>Second Class</td>\n",
       "      <td>JR-162107</td>\n",
       "      <td>Justin Ritter</td>\n",
       "      <td>Corporate</td>\n",
       "      <td>NaN</td>\n",
       "      <td>Wollongong</td>\n",
       "      <td>...</td>\n",
       "      <td>FUR-CH-5379</td>\n",
       "      <td>Furniture</td>\n",
       "      <td>Chairs</td>\n",
       "      <td>Novimex Executive Leather Armchair, Black</td>\n",
       "      <td>$3,709.40</td>\n",
       "      <td>9</td>\n",
       "      <td>0.1</td>\n",
       "      <td>-$288.77</td>\n",
       "      <td>923.63</td>\n",
       "      <td>Critical</td>\n",
       "    </tr>\n",
       "    <tr>\n",
       "      <th>2</th>\n",
       "      <td>25330</td>\n",
       "      <td>IN-2014-CR127307-41929</td>\n",
       "      <td>10/17/14</td>\n",
       "      <td>10/18/14</td>\n",
       "      <td>First Class</td>\n",
       "      <td>CR-127307</td>\n",
       "      <td>Craig Reiter</td>\n",
       "      <td>Consumer</td>\n",
       "      <td>NaN</td>\n",
       "      <td>Brisbane</td>\n",
       "      <td>...</td>\n",
       "      <td>TEC-PH-5356</td>\n",
       "      <td>Technology</td>\n",
       "      <td>Phones</td>\n",
       "      <td>Nokia Smart Phone, with Caller ID</td>\n",
       "      <td>$5,175.17</td>\n",
       "      <td>9</td>\n",
       "      <td>0.1</td>\n",
       "      <td>$919.97</td>\n",
       "      <td>915.49</td>\n",
       "      <td>Medium</td>\n",
       "    </tr>\n",
       "    <tr>\n",
       "      <th>3</th>\n",
       "      <td>13524</td>\n",
       "      <td>ES-2014-KM1637548-41667</td>\n",
       "      <td>1/28/14</td>\n",
       "      <td>1/30/14</td>\n",
       "      <td>First Class</td>\n",
       "      <td>KM-1637548</td>\n",
       "      <td>Katherine Murray</td>\n",
       "      <td>Home Office</td>\n",
       "      <td>NaN</td>\n",
       "      <td>Berlin</td>\n",
       "      <td>...</td>\n",
       "      <td>TEC-PH-5267</td>\n",
       "      <td>Technology</td>\n",
       "      <td>Phones</td>\n",
       "      <td>Motorola Smart Phone, Cordless</td>\n",
       "      <td>$2,892.51</td>\n",
       "      <td>5</td>\n",
       "      <td>0.1</td>\n",
       "      <td>-$96.54</td>\n",
       "      <td>910.16</td>\n",
       "      <td>Medium</td>\n",
       "    </tr>\n",
       "    <tr>\n",
       "      <th>4</th>\n",
       "      <td>47221</td>\n",
       "      <td>SG-2014-RH9495111-41948</td>\n",
       "      <td>11/5/14</td>\n",
       "      <td>11/6/14</td>\n",
       "      <td>Same Day</td>\n",
       "      <td>RH-9495111</td>\n",
       "      <td>Rick Hansen</td>\n",
       "      <td>Consumer</td>\n",
       "      <td>NaN</td>\n",
       "      <td>Dakar</td>\n",
       "      <td>...</td>\n",
       "      <td>TEC-CO-6011</td>\n",
       "      <td>Technology</td>\n",
       "      <td>Copiers</td>\n",
       "      <td>Sharp Wireless Fax, High-Speed</td>\n",
       "      <td>$2,832.96</td>\n",
       "      <td>8</td>\n",
       "      <td>0.0</td>\n",
       "      <td>$311.52</td>\n",
       "      <td>903.04</td>\n",
       "      <td>Critical</td>\n",
       "    </tr>\n",
       "  </tbody>\n",
       "</table>\n",
       "<p>5 rows × 24 columns</p>\n",
       "</div>"
      ],
      "text/plain": [
       "   Row.ID                  Order.ID Order.Date Ship.Date     Ship.Mode  \\\n",
       "0   40098  CA-2014-AB10015140-41954   11/11/14  11/13/14   First Class   \n",
       "1   26341    IN-2014-JR162107-41675     2/5/14    2/7/14  Second Class   \n",
       "2   25330    IN-2014-CR127307-41929   10/17/14  10/18/14   First Class   \n",
       "3   13524   ES-2014-KM1637548-41667    1/28/14   1/30/14   First Class   \n",
       "4   47221   SG-2014-RH9495111-41948    11/5/14   11/6/14      Same Day   \n",
       "\n",
       "    Customer.ID     Customer.Name      Segment  Postal.Code           City  \\\n",
       "0  AB-100151402     Aaron Bergman     Consumer      73120.0  Oklahoma City   \n",
       "1     JR-162107     Justin Ritter    Corporate          NaN     Wollongong   \n",
       "2     CR-127307      Craig Reiter     Consumer          NaN       Brisbane   \n",
       "3    KM-1637548  Katherine Murray  Home Office          NaN         Berlin   \n",
       "4    RH-9495111       Rick Hansen     Consumer          NaN          Dakar   \n",
       "\n",
       "        ...         Product.ID    Category Sub.Category  \\\n",
       "0       ...        TEC-PH-5816  Technology       Phones   \n",
       "1       ...        FUR-CH-5379   Furniture       Chairs   \n",
       "2       ...        TEC-PH-5356  Technology       Phones   \n",
       "3       ...        TEC-PH-5267  Technology       Phones   \n",
       "4       ...        TEC-CO-6011  Technology      Copiers   \n",
       "\n",
       "                                Product.Name      Sales Quantity Discount  \\\n",
       "0                           Samsung Convoy 3    $221.98        2      0.0   \n",
       "1  Novimex Executive Leather Armchair, Black  $3,709.40        9      0.1   \n",
       "2          Nokia Smart Phone, with Caller ID  $5,175.17        9      0.1   \n",
       "3             Motorola Smart Phone, Cordless  $2,892.51        5      0.1   \n",
       "4             Sharp Wireless Fax, High-Speed  $2,832.96        8      0.0   \n",
       "\n",
       "     Profit Shipping.Cost  Order.Priority  \n",
       "0    $62.15         40.77            High  \n",
       "1  -$288.77        923.63        Critical  \n",
       "2   $919.97        915.49          Medium  \n",
       "3   -$96.54        910.16          Medium  \n",
       "4   $311.52        903.04        Critical  \n",
       "\n",
       "[5 rows x 24 columns]"
      ]
     },
     "execution_count": 183,
     "metadata": {},
     "output_type": "execute_result"
    }
   ],
   "source": [
    "print(orders.columns)\n",
    "orders.head(5)"
   ]
  },
  {
   "cell_type": "code",
   "execution_count": 184,
   "metadata": {},
   "outputs": [
    {
     "name": "stdout",
     "output_type": "stream",
     "text": [
      "             num_mv    pct_mv\n",
      "Postal.Code   41296  0.805147\n"
     ]
    }
   ],
   "source": [
    "def chk_mv(df):\n",
    "    mv_bycol = pd.DataFrame( df.isnull().sum(axis=0), columns = ['num_mv'])\n",
    "    mv_bycol['pct_mv'] = mv_bycol['num_mv']/df.shape[0]\n",
    "    mv_bycol = mv_bycol.sort_values('num_mv', ascending=False)\n",
    "    mv_by_col = mv_bycol[mv_bycol['num_mv'] > 0]\n",
    "    print(mv_by_col)\n",
    "\n",
    "chk_mv(orders)"
   ]
  },
  {
   "cell_type": "code",
   "execution_count": 185,
   "metadata": {},
   "outputs": [
    {
     "data": {
      "text/plain": [
       "0      $62.15\n",
       "1    -$288.77\n",
       "2     $919.97\n",
       "3     -$96.54\n",
       "4     $311.52\n",
       "5     $763.28\n",
       "6     $564.84\n",
       "7     $996.48\n",
       "8      $54.71\n",
       "9       $5.48\n",
       "Name: Profit, dtype: object"
      ]
     },
     "execution_count": 185,
     "metadata": {},
     "output_type": "execute_result"
    }
   ],
   "source": [
    "orders['Profit'][0:10]"
   ]
  },
  {
   "cell_type": "code",
   "execution_count": 186,
   "metadata": {},
   "outputs": [
    {
     "data": {
      "text/plain": [
       "array(['United States'], dtype=object)"
      ]
     },
     "execution_count": 186,
     "metadata": {},
     "output_type": "execute_result"
    }
   ],
   "source": [
    "orders['Country'].unique()\n",
    "countries_withpostcode = orders.loc[ orders['Postal.Code'].notnull(), ['Country'] ]\n",
    "countries_withpostcode['Country'].unique()"
   ]
  },
  {
   "cell_type": "code",
   "execution_count": 187,
   "metadata": {},
   "outputs": [
    {
     "name": "stdout",
     "output_type": "stream",
     "text": [
      "0     221.98\n",
      "1    3709.40\n",
      "2    5175.17\n",
      "3    2892.51\n",
      "4    2832.96\n",
      "Name: Sales, dtype: float64\n",
      "0     62.15\n",
      "1   -288.77\n",
      "2    919.97\n",
      "3    -96.54\n",
      "4    311.52\n",
      "Name: Profit, dtype: float64\n"
     ]
    }
   ],
   "source": [
    "for name in ['Sales', 'Profit']:\n",
    "    orders[name] = orders[name].str.replace(',', '')\n",
    "    orders[name] = orders[name].str.replace('$', '')\n",
    "    orders[name] = pd.to_numeric(orders[name])\n",
    "    print(orders[name].head())"
   ]
  },
  {
   "cell_type": "code",
   "execution_count": 188,
   "metadata": {},
   "outputs": [
    {
     "data": {
      "text/plain": [
       "1467456.67"
      ]
     },
     "execution_count": 188,
     "metadata": {},
     "output_type": "execute_result"
    }
   ],
   "source": [
    "orders['Profit'].sum()"
   ]
  },
  {
   "cell_type": "code",
   "execution_count": 189,
   "metadata": {},
   "outputs": [
    {
     "name": "stdout",
     "output_type": "stream",
     "text": [
      "float64\n",
      "float64\n"
     ]
    }
   ],
   "source": [
    "print(orders['Profit'].dtype)\n",
    "print(orders['Sales'].dtype)"
   ]
  },
  {
   "cell_type": "code",
   "execution_count": 190,
   "metadata": {},
   "outputs": [
    {
     "data": {
      "text/plain": [
       "17"
      ]
     },
     "execution_count": 190,
     "metadata": {},
     "output_type": "execute_result"
    }
   ],
   "source": [
    "len(orders['Sub.Category'].unique())"
   ]
  },
  {
   "cell_type": "code",
   "execution_count": 191,
   "metadata": {},
   "outputs": [
    {
     "name": "stdout",
     "output_type": "stream",
     "text": [
      "object\n",
      "object\n",
      "datetime64[ns]\n",
      "datetime64[ns]\n"
     ]
    }
   ],
   "source": [
    "print(orders['Order.Date'].dtype)\n",
    "print(orders['Ship.Date'].dtype)\n",
    "# from datetime import datetime\n",
    "# orderdate = datetime.strptime('1/21/2011','%m/%d/%Y')\n",
    "# orderdate.day\n",
    "# orders['Order.Date1'] = [ datetime.strptime(x,'%m/%d/%y') for x in orders['Order.Date']]\n",
    "orders['Order.Date'] = pd.to_datetime(orders['Order.Date'], format = '%m/%d/%y')\n",
    "orders['Ship.Date'] = pd.to_datetime(orders['Ship.Date'], format = '%m/%d/%y')\n",
    "print(orders['Order.Date'].dtype)\n",
    "print(orders['Ship.Date'].dtype)"
   ]
  },
  {
   "cell_type": "code",
   "execution_count": 192,
   "metadata": {},
   "outputs": [],
   "source": [
    "orders['Order.Year'] = orders['Order.Date'].apply(lambda t: t.year)\n",
    "orders['Order.Month'] = orders['Order.Date'].apply(lambda t: t.month)\n",
    "orders['Order.Day'] = orders['Order.Date'].apply(lambda t: t.day)"
   ]
  },
  {
   "cell_type": "code",
   "execution_count": 193,
   "metadata": {},
   "outputs": [
    {
     "data": {
      "text/plain": [
       "25728"
      ]
     },
     "execution_count": 193,
     "metadata": {},
     "output_type": "execute_result"
    }
   ],
   "source": [
    "len(orders['Order.ID'].unique())"
   ]
  },
  {
   "cell_type": "code",
   "execution_count": 194,
   "metadata": {},
   "outputs": [
    {
     "data": {
      "text/plain": [
       "(51290, 27)"
      ]
     },
     "execution_count": 194,
     "metadata": {},
     "output_type": "execute_result"
    }
   ],
   "source": [
    "orders.shape"
   ]
  },
  {
   "cell_type": "code",
   "execution_count": 195,
   "metadata": {},
   "outputs": [],
   "source": [
    "chk_season = pd.DataFrame(orders.groupby(['Order.Year','Order.Month'])['Quantity'].count())\n",
    "chk_season = chk_season.reset_index()\n",
    "#chk_season"
   ]
  },
  {
   "cell_type": "code",
   "execution_count": 196,
   "metadata": {},
   "outputs": [
    {
     "data": {
      "text/plain": [
       "<matplotlib.axes._subplots.AxesSubplot at 0x1a1e5621320>"
      ]
     },
     "execution_count": 196,
     "metadata": {},
     "output_type": "execute_result"
    },
    {
     "data": {
      "image/png": "[encoded data removed]",
      "text/plain": [
       "<Figure size 432x288 with 1 Axes>"
      ]
     },
     "metadata": {
      "needs_background": "light"
     },
     "output_type": "display_data"
    }
   ],
   "source": [
    "sns.lineplot(x = 'Order.Month', y = 'Quantity', data = chk_season, hue = 'Order.Year' )"
   ]
  },
  {
   "cell_type": "code",
   "execution_count": 197,
   "metadata": {},
   "outputs": [
    {
     "data": {
      "image/png": "[encoded data removed]",
      "text/plain": [
       "<Figure size 1080x504 with 3 Axes>"
      ]
     },
     "metadata": {
      "needs_background": "light"
     },
     "output_type": "display_data"
    }
   ],
   "source": [
    "chk_season_cat = pd.DataFrame(orders.groupby(['Category','Order.Year','Order.Month'])['Quantity'].count())\n",
    "chk_season_cat = chk_season_cat.reset_index()\n",
    "chk_season_cat\n",
    "cats = orders['Category'].unique()\n",
    "\n",
    "plt.figure(figsize = (15,7))\n",
    "for i, c in enumerate(cats):\n",
    "    plt.subplot(1,3,i+1)\n",
    "    data = chk_season_cat[ chk_season_cat['Category'] == c ]\n",
    "    sns.lineplot(x = 'Order.Month', y = 'Quantity', data = data, hue = 'Order.Year' )\n",
    "    plt.ylim(0, 1500)\n",
    "    plt.title(c)"
   ]
  },
  {
   "cell_type": "code",
   "execution_count": 198,
   "metadata": {},
   "outputs": [
    {
     "data": {
      "text/plain": [
       "1079"
      ]
     },
     "execution_count": 198,
     "metadata": {},
     "output_type": "execute_result"
    }
   ],
   "source": [
    "returns = pd.read_csv(\"data/Returns.csv\")\n",
    "len(returns['Order ID'].unique())"
   ]
  },
  {
   "cell_type": "code",
   "execution_count": 199,
   "metadata": {},
   "outputs": [
    {
     "data": {
      "text/plain": [
       "(2220, 30)"
      ]
     },
     "execution_count": 199,
     "metadata": {},
     "output_type": "execute_result"
    }
   ],
   "source": [
    "returndata = pd.merge(orders,returns, left_on='Order.ID', right_on = 'Order ID')\n",
    "returndata.shape"
   ]
  },
  {
   "cell_type": "code",
   "execution_count": 200,
   "metadata": {},
   "outputs": [
    {
     "data": {
      "text/html": [
       "<div>\n",
       "<style scoped>\n",
       "    .dataframe tbody tr th:only-of-type {\n",
       "        vertical-align: middle;\n",
       "    }\n",
       "\n",
       "    .dataframe tbody tr th {\n",
       "        vertical-align: top;\n",
       "    }\n",
       "\n",
       "    .dataframe thead th {\n",
       "        text-align: right;\n",
       "    }\n",
       "</style>\n",
       "<table border=\"1\" class=\"dataframe\">\n",
       "  <thead>\n",
       "    <tr style=\"text-align: right;\">\n",
       "      <th></th>\n",
       "      <th>Row.ID</th>\n",
       "      <th>Order.ID</th>\n",
       "      <th>Order.Date</th>\n",
       "      <th>Ship.Date</th>\n",
       "      <th>Ship.Mode</th>\n",
       "      <th>Customer.ID</th>\n",
       "      <th>Customer.Name</th>\n",
       "      <th>Segment</th>\n",
       "      <th>Postal.Code</th>\n",
       "      <th>City</th>\n",
       "      <th>...</th>\n",
       "      <th>Discount</th>\n",
       "      <th>Profit</th>\n",
       "      <th>Shipping.Cost</th>\n",
       "      <th>Order.Priority</th>\n",
       "      <th>Order.Year</th>\n",
       "      <th>Order.Month</th>\n",
       "      <th>Order.Day</th>\n",
       "      <th>Returned</th>\n",
       "      <th>Order ID</th>\n",
       "      <th>Region_y</th>\n",
       "    </tr>\n",
       "  </thead>\n",
       "  <tbody>\n",
       "    <tr>\n",
       "      <th>0</th>\n",
       "      <td>30191</td>\n",
       "      <td>IN-2012-PB19210127-41259</td>\n",
       "      <td>2012-12-16</td>\n",
       "      <td>2012-12-19</td>\n",
       "      <td>First Class</td>\n",
       "      <td>PB-19210127</td>\n",
       "      <td>Phillip Breyer</td>\n",
       "      <td>Corporate</td>\n",
       "      <td>NaN</td>\n",
       "      <td>Taipei</td>\n",
       "      <td>...</td>\n",
       "      <td>0.0</td>\n",
       "      <td>720.36</td>\n",
       "      <td>725.57</td>\n",
       "      <td>Critical</td>\n",
       "      <td>2012</td>\n",
       "      <td>12</td>\n",
       "      <td>16</td>\n",
       "      <td>Yes</td>\n",
       "      <td>IN-2012-PB19210127-41259</td>\n",
       "      <td>Eastern Asia</td>\n",
       "    </tr>\n",
       "    <tr>\n",
       "      <th>1</th>\n",
       "      <td>30190</td>\n",
       "      <td>IN-2012-PB19210127-41259</td>\n",
       "      <td>2012-12-16</td>\n",
       "      <td>2012-12-19</td>\n",
       "      <td>First Class</td>\n",
       "      <td>PB-19210127</td>\n",
       "      <td>Phillip Breyer</td>\n",
       "      <td>Corporate</td>\n",
       "      <td>NaN</td>\n",
       "      <td>Taipei</td>\n",
       "      <td>...</td>\n",
       "      <td>0.0</td>\n",
       "      <td>153.75</td>\n",
       "      <td>627.27</td>\n",
       "      <td>Critical</td>\n",
       "      <td>2012</td>\n",
       "      <td>12</td>\n",
       "      <td>16</td>\n",
       "      <td>Yes</td>\n",
       "      <td>IN-2012-PB19210127-41259</td>\n",
       "      <td>Eastern Asia</td>\n",
       "    </tr>\n",
       "    <tr>\n",
       "      <th>2</th>\n",
       "      <td>30187</td>\n",
       "      <td>IN-2012-PB19210127-41259</td>\n",
       "      <td>2012-12-16</td>\n",
       "      <td>2012-12-19</td>\n",
       "      <td>First Class</td>\n",
       "      <td>PB-19210127</td>\n",
       "      <td>Phillip Breyer</td>\n",
       "      <td>Corporate</td>\n",
       "      <td>NaN</td>\n",
       "      <td>Taipei</td>\n",
       "      <td>...</td>\n",
       "      <td>0.0</td>\n",
       "      <td>311.85</td>\n",
       "      <td>458.97</td>\n",
       "      <td>Critical</td>\n",
       "      <td>2012</td>\n",
       "      <td>12</td>\n",
       "      <td>16</td>\n",
       "      <td>Yes</td>\n",
       "      <td>IN-2012-PB19210127-41259</td>\n",
       "      <td>Eastern Asia</td>\n",
       "    </tr>\n",
       "    <tr>\n",
       "      <th>3</th>\n",
       "      <td>30193</td>\n",
       "      <td>IN-2012-PB19210127-41259</td>\n",
       "      <td>2012-12-16</td>\n",
       "      <td>2012-12-19</td>\n",
       "      <td>First Class</td>\n",
       "      <td>PB-19210127</td>\n",
       "      <td>Phillip Breyer</td>\n",
       "      <td>Corporate</td>\n",
       "      <td>NaN</td>\n",
       "      <td>Taipei</td>\n",
       "      <td>...</td>\n",
       "      <td>0.0</td>\n",
       "      <td>114.60</td>\n",
       "      <td>203.92</td>\n",
       "      <td>Critical</td>\n",
       "      <td>2012</td>\n",
       "      <td>12</td>\n",
       "      <td>16</td>\n",
       "      <td>Yes</td>\n",
       "      <td>IN-2012-PB19210127-41259</td>\n",
       "      <td>Eastern Asia</td>\n",
       "    </tr>\n",
       "    <tr>\n",
       "      <th>4</th>\n",
       "      <td>30189</td>\n",
       "      <td>IN-2012-PB19210127-41259</td>\n",
       "      <td>2012-12-16</td>\n",
       "      <td>2012-12-19</td>\n",
       "      <td>First Class</td>\n",
       "      <td>PB-19210127</td>\n",
       "      <td>Phillip Breyer</td>\n",
       "      <td>Corporate</td>\n",
       "      <td>NaN</td>\n",
       "      <td>Taipei</td>\n",
       "      <td>...</td>\n",
       "      <td>0.0</td>\n",
       "      <td>68.22</td>\n",
       "      <td>25.48</td>\n",
       "      <td>Critical</td>\n",
       "      <td>2012</td>\n",
       "      <td>12</td>\n",
       "      <td>16</td>\n",
       "      <td>Yes</td>\n",
       "      <td>IN-2012-PB19210127-41259</td>\n",
       "      <td>Eastern Asia</td>\n",
       "    </tr>\n",
       "  </tbody>\n",
       "</table>\n",
       "<p>5 rows × 30 columns</p>\n",
       "</div>"
      ],
      "text/plain": [
       "   Row.ID                  Order.ID Order.Date  Ship.Date    Ship.Mode  \\\n",
       "0   30191  IN-2012-PB19210127-41259 2012-12-16 2012-12-19  First Class   \n",
       "1   30190  IN-2012-PB19210127-41259 2012-12-16 2012-12-19  First Class   \n",
       "2   30187  IN-2012-PB19210127-41259 2012-12-16 2012-12-19  First Class   \n",
       "3   30193  IN-2012-PB19210127-41259 2012-12-16 2012-12-19  First Class   \n",
       "4   30189  IN-2012-PB19210127-41259 2012-12-16 2012-12-19  First Class   \n",
       "\n",
       "   Customer.ID   Customer.Name    Segment  Postal.Code    City      ...       \\\n",
       "0  PB-19210127  Phillip Breyer  Corporate          NaN  Taipei      ...        \n",
       "1  PB-19210127  Phillip Breyer  Corporate          NaN  Taipei      ...        \n",
       "2  PB-19210127  Phillip Breyer  Corporate          NaN  Taipei      ...        \n",
       "3  PB-19210127  Phillip Breyer  Corporate          NaN  Taipei      ...        \n",
       "4  PB-19210127  Phillip Breyer  Corporate          NaN  Taipei      ...        \n",
       "\n",
       "  Discount  Profit Shipping.Cost Order.Priority Order.Year Order.Month  \\\n",
       "0      0.0  720.36        725.57       Critical       2012          12   \n",
       "1      0.0  153.75        627.27       Critical       2012          12   \n",
       "2      0.0  311.85        458.97       Critical       2012          12   \n",
       "3      0.0  114.60        203.92       Critical       2012          12   \n",
       "4      0.0   68.22         25.48       Critical       2012          12   \n",
       "\n",
       "  Order.Day Returned                  Order ID      Region_y  \n",
       "0        16      Yes  IN-2012-PB19210127-41259  Eastern Asia  \n",
       "1        16      Yes  IN-2012-PB19210127-41259  Eastern Asia  \n",
       "2        16      Yes  IN-2012-PB19210127-41259  Eastern Asia  \n",
       "3        16      Yes  IN-2012-PB19210127-41259  Eastern Asia  \n",
       "4        16      Yes  IN-2012-PB19210127-41259  Eastern Asia  \n",
       "\n",
       "[5 rows x 30 columns]"
      ]
     },
     "execution_count": 200,
     "metadata": {},
     "output_type": "execute_result"
    }
   ],
   "source": [
    "returndata.head()"
   ]
  },
  {
   "cell_type": "code",
   "execution_count": 201,
   "metadata": {},
   "outputs": [
    {
     "data": {
      "text/plain": [
       "Order.Year\n",
       "2012    17477.26\n",
       "2013     9269.89\n",
       "2014    17510.63\n",
       "2015    17112.97\n",
       "Name: Profit, dtype: float64"
      ]
     },
     "execution_count": 201,
     "metadata": {},
     "output_type": "execute_result"
    }
   ],
   "source": [
    "returndata.groupby('Order.Year')['Profit'].sum()"
   ]
  },
  {
   "cell_type": "code",
   "execution_count": 202,
   "metadata": {},
   "outputs": [
    {
     "name": "stdout",
     "output_type": "stream",
     "text": [
      "(1081, 1)\n"
     ]
    },
    {
     "data": {
      "text/plain": [
       "20"
      ]
     },
     "execution_count": 202,
     "metadata": {},
     "output_type": "execute_result"
    }
   ],
   "source": [
    "customerdata = pd.DataFrame(returndata.groupby(['Customer.ID','Order.ID'])['Returned'].count())\n",
    "customerdata.reset_index()\n",
    "print(customerdata.shape)\n",
    "customersum = customerdata.groupby('Customer.ID')['Returned'].count()\n",
    "np.sum(customersum > 1)"
   ]
  },
  {
   "cell_type": "code",
   "execution_count": 203,
   "metadata": {},
   "outputs": [],
   "source": [
    "# the regions had slightly different names in the orders vs. return file\n",
    "returndata.loc[ returndata['Region_x'] != returndata['Region_y'],['Region_x', 'Region_y'] ]\n",
    "# rename for working with orders side of info later\n",
    "returndata.rename(columns={'Region_x':'Region'},inplace=True)"
   ]
  },
  {
   "cell_type": "code",
   "execution_count": 204,
   "metadata": {},
   "outputs": [
    {
     "name": "stdout",
     "output_type": "stream",
     "text": [
      "               Region  Returned  total_orders  prob_return\n",
      "18        Southern US        44           822     0.053528\n",
      "17    Southern Europe        55          1098     0.050091\n",
      "9          Eastern US        69          1401     0.049251\n",
      "15    Southern Africa        11           241     0.045643\n",
      "7        Eastern Asia        53          1162     0.045611\n",
      "12            Oceania        78          1743     0.044750\n",
      "22         Western US        72          1611     0.044693\n",
      "16      Southern Asia        58          1346     0.043091\n",
      "14  Southeastern Asia        64          1517     0.042189\n",
      "13      South America        61          1457     0.041867\n",
      "20       Western Asia        50          1200     0.041667\n",
      "10       North Africa        26           626     0.041534\n",
      "3     Central America       117          2831     0.041328\n",
      "19     Western Africa        29           711     0.040788\n",
      "21     Western Europe       121          2993     0.040428\n",
      "11    Northern Europe        43          1137     0.037819\n",
      "5          Central US        44          1175     0.037447\n",
      "1           Caribbean        31           856     0.036215\n",
      "4        Central Asia         4           112     0.035714\n",
      "8      Eastern Europe        24           785     0.030573\n",
      "2      Central Africa        10           333     0.030030\n",
      "0              Canada         6           205     0.029268\n",
      "6      Eastern Africa        11           377     0.029178 \n",
      "\n",
      "          Category  Returned  total_orders  prob_return\n",
      "2       Technology       365          8428     0.043308\n",
      "0        Furniture       353          8222     0.042934\n",
      "1  Office Supplies       806         19464     0.041410 \n",
      "\n",
      "   Sub.Category  Returned  total_orders  prob_return\n",
      "10       Labels       127          2460     0.051626\n",
      "16       Tables        38           835     0.045509\n",
      "0   Accessories       129          2893     0.044590\n",
      "6       Copiers        94          2124     0.044256\n",
      "3       Binders       239          5432     0.043999\n",
      "4     Bookcases        99          2285     0.043326\n",
      "2           Art       187          4394     0.042558\n",
      "13       Phones       133          3141     0.042343\n",
      "15     Supplies        96          2274     0.042216\n",
      "9   Furnishings       124          2956     0.041949\n",
      "11     Machines        59          1426     0.041374\n",
      "5        Chairs       132          3196     0.041302\n",
      "12        Paper       132          3199     0.041263\n",
      "14      Storage       186          4565     0.040745\n",
      "7     Envelopes        91          2272     0.040053\n",
      "8     Fasteners        98          2481     0.039500\n",
      "1    Appliances        59          1676     0.035203 \n",
      "\n"
     ]
    }
   ],
   "source": [
    "# likelihood of return = # of returned orders / # of total orders \n",
    "\n",
    "def prob_return(col):\n",
    "    col_returndata = pd.DataFrame(returndata.groupby([ col,'Order.ID'])['Returned'].count())\n",
    "    col_returndata.reset_index()\n",
    "    col_return = pd.DataFrame(col_returndata.groupby(col)['Returned'].count()).reset_index()\n",
    "    #print(col_return.sort_values(by='Returned',ascending = False))\n",
    "    \n",
    "    col_orderdata = pd.DataFrame(orders.groupby([col,'Order.ID'])['Quantity'].count())\n",
    "    col_orderdata.reset_index()\n",
    "    col_order = pd.DataFrame(col_orderdata.groupby(col)['Quantity'].count()).reset_index()\n",
    "    col_order.rename(columns = {'Quantity':'total_orders'}, inplace=True)\n",
    "    #print(col_order.sort_values(by='total_orders',ascending = False))\n",
    "    \n",
    "    col_tot_return = pd.merge(col_return, col_order, on = col)\n",
    "    col_tot_return['prob_return'] = col_tot_return['Returned'] / col_tot_return['total_orders']        \n",
    "    print(col_tot_return.sort_values(by=\"prob_return\",ascending=False),\"\\n\")\n",
    "\n",
    "prob_return('Region')\n",
    "prob_return('Category')\n",
    "prob_return('Sub.Category')"
   ]
  },
  {
   "cell_type": "markdown",
   "metadata": {},
   "source": [
    "### Lab Part II: Machine Learning"
   ]
  },
  {
   "cell_type": "code",
   "execution_count": 205,
   "metadata": {},
   "outputs": [
    {
     "data": {
      "text/plain": [
       "Index(['Returned', 'Order.ID', 'Region'], dtype='object')"
      ]
     },
     "execution_count": 205,
     "metadata": {},
     "output_type": "execute_result"
    }
   ],
   "source": [
    "returns = returns.rename(columns = {\"Order ID\":\"Order.ID\"})\n",
    "returns.columns"
   ]
  },
  {
   "cell_type": "code",
   "execution_count": 206,
   "metadata": {},
   "outputs": [
    {
     "name": "stdout",
     "output_type": "stream",
     "text": [
      "(51290, 28)\n",
      "25728\n",
      "No     49070\n",
      "Yes     2220\n",
      "Name: Returned, dtype: int64\n"
     ]
    }
   ],
   "source": [
    "# Step 1: Create the dependent variable\n",
    "allorders = pd.merge(orders,returns[['Returned', 'Order.ID']], how = 'left', on = \"Order.ID\")\n",
    "print(allorders.shape)\n",
    "print(len(allorders.groupby(\"Order.ID\")['Order.ID'].unique()))\n",
    "allorders.loc[ allorders['Returned'].isnull(), 'Returned' ] = \"No\"\n",
    "print(allorders['Returned'].value_counts())"
   ]
  },
  {
   "cell_type": "code",
   "execution_count": 207,
   "metadata": {},
   "outputs": [
    {
     "data": {
      "text/plain": [
       "count    51290.000000\n",
       "mean         3.969370\n",
       "std          1.729437\n",
       "min          0.000000\n",
       "25%          3.000000\n",
       "50%          4.000000\n",
       "75%          5.000000\n",
       "max          7.000000\n",
       "Name: Process.Time, dtype: float64"
      ]
     },
     "execution_count": 207,
     "metadata": {},
     "output_type": "execute_result"
    },
    {
     "data": {
      "image/png": "[encoded data removed]",
      "text/plain": [
       "<Figure size 432x288 with 1 Axes>"
      ]
     },
     "metadata": {
      "needs_background": "light"
     },
     "output_type": "display_data"
    }
   ],
   "source": [
    "allorders.dtypes\n",
    "allorders['Process.Time'] = allorders['Ship.Date'] - allorders['Order.Date']\n",
    "allorders['Process.Time'] = allorders['Process.Time'].apply(lambda t: t.days)\n",
    "plt.hist(allorders['Process.Time'], rwidth = 0.8)\n",
    "allorders['Process.Time'].describe()"
   ]
  },
  {
   "cell_type": "code",
   "execution_count": 208,
   "metadata": {},
   "outputs": [
    {
     "data": {
      "text/plain": [
       "0    2\n",
       "1    2\n",
       "2    1\n",
       "3    2\n",
       "4    1\n",
       "5    3\n",
       "6    2\n",
       "7    4\n",
       "8    2\n",
       "9    1\n",
       "Name: Process.Time, dtype: int64"
      ]
     },
     "execution_count": 208,
     "metadata": {},
     "output_type": "execute_result"
    }
   ],
   "source": [
    "allorders['Process.Time'][0:10]"
   ]
  },
  {
   "cell_type": "code",
   "execution_count": 209,
   "metadata": {},
   "outputs": [
    {
     "name": "stdout",
     "output_type": "stream",
     "text": [
      "    Returned   Product.ID  Quantity\n",
      "26       Yes  FUR-TA-5060         2\n",
      "53       Yes  FUR-BO-5762         5\n",
      "75       Yes  TEC-PH-3147         5\n",
      "110      Yes  OFF-ST-4516         2\n",
      "113      Yes  TEC-CO-6012         5\n"
     ]
    },
    {
     "data": {
      "text/plain": [
       "(3788, 2)"
      ]
     },
     "execution_count": 209,
     "metadata": {},
     "output_type": "execute_result"
    }
   ],
   "source": [
    "returnorders = allorders.loc[ allorders['Returned'] == \"Yes\", ['Returned','Product.ID','Quantity'] ]\n",
    "print(returnorders.head())\n",
    "prod_returned = returnorders.groupby(['Product.ID'])['Returned'].count().reset_index()\n",
    "prod_all = allorders.groupby('Product.ID')['Quantity'].count().reset_index()\n",
    "prod_all.shape"
   ]
  },
  {
   "cell_type": "code",
   "execution_count": 210,
   "metadata": {},
   "outputs": [],
   "source": [
    "prod_all.rename(columns={\"Quantity\":\"Total\"}, inplace = True)\n",
    "prod_all = prod_all.merge(prod_returned, on = \"Product.ID\", how = \"left\")"
   ]
  },
  {
   "cell_type": "code",
   "execution_count": 211,
   "metadata": {},
   "outputs": [],
   "source": [
    "prod_all.loc[ prod_all['Returned'].isnull(), 'Returned' ] = 0"
   ]
  },
  {
   "cell_type": "code",
   "execution_count": 212,
   "metadata": {},
   "outputs": [
    {
     "data": {
      "text/plain": [
       "0.0     2294\n",
       "1.0      990\n",
       "2.0      348\n",
       "3.0      117\n",
       "4.0       26\n",
       "5.0        8\n",
       "6.0        3\n",
       "9.0        1\n",
       "12.0       1\n",
       "Name: Returned, dtype: int64"
      ]
     },
     "execution_count": 212,
     "metadata": {},
     "output_type": "execute_result"
    }
   ],
   "source": [
    "prod_all['Returned'].value_counts()"
   ]
  },
  {
   "cell_type": "code",
   "execution_count": 219,
   "metadata": {},
   "outputs": [
    {
     "name": "stdout",
     "output_type": "stream",
     "text": [
      "       Product.ID  Total  Returned\n",
      "3438  TEC-MA-5573     13       0.0\n",
      "2528  OFF-ST-3399      2       0.0\n",
      "327   FUR-CH-5446     30       1.0\n",
      "1788  OFF-EN-5047      5       0.0\n",
      "3363  TEC-MA-5002     10       0.0\n",
      "             Total     Returned\n",
      "count  3788.000000  3788.000000\n",
      "mean     13.540127     0.586061\n",
      "std      11.826589     0.902267\n",
      "min       1.000000     0.000000\n",
      "25%       5.000000     0.000000\n",
      "50%       9.000000     0.000000\n",
      "75%      19.000000     1.000000\n",
      "max     227.000000    12.000000\n"
     ]
    }
   ],
   "source": [
    "print(prod_all.sample(5))\n",
    "print(prod_all.describe())\n",
    "prod_all.rename(columns = {\"Total\":\"prod_total\", \"Returned\":\"prod_returned\"}, inplace=True)"
   ]
  },
  {
   "cell_type": "code",
   "execution_count": 225,
   "metadata": {},
   "outputs": [
    {
     "name": "stdout",
     "output_type": "stream",
     "text": [
      "Region            object\n",
      "Sub.Category      object\n",
      "Process.Time       int64\n",
      "Product.ID        object\n",
      "prod_total         int64\n",
      "prod_returned    float64\n",
      "dtype: object\n",
      "object\n",
      "Region           0\n",
      "Sub.Category     0\n",
      "Process.Time     0\n",
      "Product.ID       0\n",
      "prod_total       0\n",
      "prod_returned    0\n",
      "dtype: int64\n",
      "(51290, 6)\n",
      "Western Europe       5883\n",
      "Central America      5616\n",
      "Oceania              3487\n",
      "Western US           3203\n",
      "Southeastern Asia    3129\n",
      "South America        2988\n",
      "Eastern US           2848\n",
      "Southern Asia        2655\n",
      "Western Asia         2440\n",
      "Eastern Asia         2374\n",
      "Central US           2323\n",
      "Northern Europe      2204\n",
      "Southern Europe      2113\n",
      "Caribbean            1690\n",
      "Southern US          1620\n",
      "Eastern Europe       1529\n",
      "Western Africa       1460\n",
      "North Africa         1278\n",
      "Eastern Africa        728\n",
      "Central Africa        643\n",
      "Southern Africa       478\n",
      "Canada                384\n",
      "Central Asia          217\n",
      "Name: Region, dtype: int64\n",
      "Binders        6146\n",
      "Storage        5049\n",
      "Art            4864\n",
      "Paper          3492\n",
      "Chairs         3434\n",
      "Phones         3357\n",
      "Furnishings    3154\n",
      "Accessories    3075\n",
      "Labels         2601\n",
      "Fasteners      2601\n",
      "Bookcases      2411\n",
      "Supplies       2407\n",
      "Envelopes      2387\n",
      "Copiers        2223\n",
      "Appliances     1742\n",
      "Machines       1486\n",
      "Tables          861\n",
      "Name: Sub.Category, dtype: int64\n"
     ]
    }
   ],
   "source": [
    "df = allorders[['Region','Sub.Category','Process.Time','Product.ID']].merge(prod_all, \\\n",
    "    how = \"left\", on = \"Product.ID\")\n",
    "Y = allorders['Returned']\n",
    "print(df.dtypes)\n",
    "print(Y.dtypes)\n",
    "print(df.isnull().sum(axis=0))\n",
    "print(df.shape)\n",
    "print(df['Region'].value_counts())\n",
    "print(df['Sub.Category'].value_counts())"
   ]
  },
  {
   "cell_type": "code",
   "execution_count": 230,
   "metadata": {},
   "outputs": [
    {
     "data": {
      "text/plain": [
       "Index(['Region', 'Sub.Category', 'Process.Time', 'prod_total',\n",
       "       'prod_returned'],\n",
       "      dtype='object')"
      ]
     },
     "execution_count": 230,
     "metadata": {},
     "output_type": "execute_result"
    }
   ],
   "source": [
    "df.columns"
   ]
  },
  {
   "cell_type": "code",
   "execution_count": 231,
   "metadata": {},
   "outputs": [],
   "source": [
    "df.drop('Product.ID', axis = 1, inplace=True)\n",
    "df_dummy = pd.get_dummies(df[['Region', 'Sub.Category']], drop_first = True)\n",
    "X = pd.concat([df[['Process.Time', 'prod_total','prod_returned']],df_dummy], axis = 1)"
   ]
  },
  {
   "cell_type": "code",
   "execution_count": 243,
   "metadata": {},
   "outputs": [
    {
     "name": "stdout",
     "output_type": "stream",
     "text": [
      "   Process.Time  prod_total  prod_returned  Region_Caribbean  \\\n",
      "0             2           2            0.0                 0   \n",
      "1             2          25            2.0                 0   \n",
      "2             1          24            2.0                 0   \n",
      "3             2          23            0.0                 0   \n",
      "4             1          12            0.0                 0   \n",
      "\n",
      "   Region_Central Africa  Region_Central America  Region_Central Asia  \\\n",
      "0                      0                       0                    0   \n",
      "1                      0                       0                    0   \n",
      "2                      0                       0                    0   \n",
      "3                      0                       0                    0   \n",
      "4                      0                       0                    0   \n",
      "\n",
      "   Region_Central US  Region_Eastern Africa  Region_Eastern Asia  \\\n",
      "0                  1                      0                    0   \n",
      "1                  0                      0                    0   \n",
      "2                  0                      0                    0   \n",
      "3                  0                      0                    0   \n",
      "4                  0                      0                    0   \n",
      "\n",
      "          ...           Sub.Category_Envelopes  Sub.Category_Fasteners  \\\n",
      "0         ...                                0                       0   \n",
      "1         ...                                0                       0   \n",
      "2         ...                                0                       0   \n",
      "3         ...                                0                       0   \n",
      "4         ...                                0                       0   \n",
      "\n",
      "   Sub.Category_Furnishings  Sub.Category_Labels  Sub.Category_Machines  \\\n",
      "0                         0                    0                      0   \n",
      "1                         0                    0                      0   \n",
      "2                         0                    0                      0   \n",
      "3                         0                    0                      0   \n",
      "4                         0                    0                      0   \n",
      "\n",
      "   Sub.Category_Paper  Sub.Category_Phones  Sub.Category_Storage  \\\n",
      "0                   0                    1                     0   \n",
      "1                   0                    0                     0   \n",
      "2                   0                    1                     0   \n",
      "3                   0                    1                     0   \n",
      "4                   0                    0                     0   \n",
      "\n",
      "   Sub.Category_Supplies  Sub.Category_Tables  \n",
      "0                      0                    0  \n",
      "1                      0                    0  \n",
      "2                      0                    0  \n",
      "3                      0                    0  \n",
      "4                      0                    0  \n",
      "\n",
      "[5 rows x 41 columns]\n",
      "(51290, 41)\n"
     ]
    }
   ],
   "source": [
    "print(X.head())\n",
    "print(X.shape)\n",
    "Xdata = np.array(X)\n",
    "Ydata = np.array(Y)"
   ]
  },
  {
   "cell_type": "code",
   "execution_count": 254,
   "metadata": {},
   "outputs": [
    {
     "name": "stdout",
     "output_type": "stream",
     "text": [
      "[0.95476701 0.95466953 0.9561318  0.95574186 0.95642425]\n"
     ]
    },
    {
     "ename": "TypeError",
     "evalue": "'builtin_function_or_method' object is not subscriptable",
     "output_type": "error",
     "traceback": [
      "\u001b[1;31m---------------------------------------------------------------------------\u001b[0m",
      "\u001b[1;31mTypeError\u001b[0m                                 Traceback (most recent call last)",
      "\u001b[1;32m<ipython-input-254-00b9451be719>\u001b[0m in \u001b[0;36m<module>\u001b[1;34m()\u001b[0m\n\u001b[0;32m     17\u001b[0m     \u001b[0mpre\u001b[0m \u001b[1;33m=\u001b[0m \u001b[0mprecision_score\u001b[0m\u001b[1;33m(\u001b[0m\u001b[0mYdata\u001b[0m\u001b[1;33m[\u001b[0m\u001b[0mtest_idx\u001b[0m\u001b[1;33m]\u001b[0m\u001b[1;33m,\u001b[0m \u001b[0mY_pred\u001b[0m\u001b[1;33m,\u001b[0m \u001b[0mpos_label\u001b[0m\u001b[1;33m=\u001b[0m\u001b[1;34m\"Yes\"\u001b[0m\u001b[1;33m)\u001b[0m\u001b[1;33m\u001b[0m\u001b[0m\n\u001b[0;32m     18\u001b[0m     \u001b[0mrec\u001b[0m \u001b[1;33m=\u001b[0m \u001b[0mrecall_score\u001b[0m\u001b[1;33m(\u001b[0m\u001b[0mYdata\u001b[0m\u001b[1;33m[\u001b[0m\u001b[0mtest_idx\u001b[0m\u001b[1;33m]\u001b[0m\u001b[1;33m,\u001b[0m \u001b[0mY_pred\u001b[0m\u001b[1;33m,\u001b[0m \u001b[0mpos_label\u001b[0m\u001b[1;33m=\u001b[0m\u001b[1;34m\"Yes\"\u001b[0m\u001b[1;33m)\u001b[0m\u001b[1;33m\u001b[0m\u001b[0m\n\u001b[1;32m---> 19\u001b[1;33m     \u001b[0mprecision_recall\u001b[0m\u001b[1;33m.\u001b[0m\u001b[0mappend\u001b[0m\u001b[1;33m[\u001b[0m\u001b[1;33m(\u001b[0m\u001b[0mpre\u001b[0m\u001b[1;33m,\u001b[0m\u001b[0mrec\u001b[0m\u001b[1;33m)\u001b[0m\u001b[1;33m]\u001b[0m\u001b[1;33m\u001b[0m\u001b[0m\n\u001b[0m\u001b[0;32m     20\u001b[0m     \u001b[0mprint\u001b[0m\u001b[1;33m(\u001b[0m\u001b[0mconfusion\u001b[0m\u001b[1;33m[\u001b[0m\u001b[1;33m-\u001b[0m\u001b[1;36m1\u001b[0m\u001b[1;33m]\u001b[0m\u001b[1;33m)\u001b[0m\u001b[1;33m\u001b[0m\u001b[0m\n\u001b[0;32m     21\u001b[0m     \u001b[0mprint\u001b[0m\u001b[1;33m(\u001b[0m\u001b[0mprecision_recall\u001b[0m\u001b[1;33m[\u001b[0m\u001b[1;33m-\u001b[0m\u001b[1;36m1\u001b[0m\u001b[1;33m]\u001b[0m\u001b[1;33m)\u001b[0m\u001b[1;33m\u001b[0m\u001b[0m\n",
      "\u001b[1;31mTypeError\u001b[0m: 'builtin_function_or_method' object is not subscriptable"
     ]
    }
   ],
   "source": [
    "# logistic regression model\n",
    "from sklearn import linear_model\n",
    "import sklearn.model_selection as ms\n",
    "from sklearn.metrics import confusion_matrix, precision_score, recall_score\n",
    "\n",
    "logit = linear_model.LogisticRegression()\n",
    "cv5 = ms.StratifiedKFold(n_splits=5, random_state=0)\n",
    "scores = ms.cross_val_score(estimator=logit, X=Xdata, y=Ydata, cv=cv5)\n",
    "print(scores)\n",
    "confusion = []\n",
    "PRscores = []\n",
    "\n",
    "for train_idx, test_idx in cv5.split(X = Xdata, y=Ydata):\n",
    "    logit.fit(Xdata[train_idx],Ydata[train_idx])\n",
    "    Y_pred = logit.predict(Xdata[test_idx])\n",
    "    confusion.append( confusion_matrix(Ydata[test_idx], Y_pred) )\n",
    "    pre = precision_score(Ydata[test_idx], Y_pred, pos_label=\"Yes\")\n",
    "    rec = recall_score(Ydata[test_idx], Y_pred, pos_label=\"Yes\")\n",
    "    PRscores.append[(pre,rec)]\n",
    "    print(confusion[-1])\n",
    "    print(PRscores[-1])"
   ]
  },
  {
   "cell_type": "code",
   "execution_count": 236,
   "metadata": {},
   "outputs": [],
   "source": []
  },
  {
   "cell_type": "code",
   "execution_count": null,
   "metadata": {},
   "outputs": [],
   "source": []
  }
 ],
 "metadata": {
  "kernelspec": {
   "display_name": "Python 3",
   "language": "python",
   "name": "python3"
  },
  "language_info": {
   "codemirror_mode": {
    "name": "ipython",
    "version": 3
   },
   "file_extension": ".py",
   "mimetype": "text/x-python",
   "name": "python",
   "nbconvert_exporter": "python",
   "pygments_lexer": "ipython3",
   "version": "3.7.0"
  }
 },
 "nbformat": 4,
 "nbformat_minor": 2
}
